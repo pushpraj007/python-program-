{
 "cells": [
  {
   "cell_type": "code",
   "execution_count": 1,
   "id": "acbde885",
   "metadata": {},
   "outputs": [
    {
     "name": "stdout",
     "output_type": "stream",
     "text": [
      "Hello world!\n"
     ]
    }
   ],
   "source": [
    "print(\"Hello world!\")"
   ]
  },
  {
   "cell_type": "code",
   "execution_count": 3,
   "id": "ac4ea995",
   "metadata": {},
   "outputs": [
    {
     "name": "stdout",
     "output_type": "stream",
     "text": [
      "Enter first number 56\n",
      "Enter second number 8\n",
      "Sum is  64\n"
     ]
    }
   ],
   "source": [
    "#program to add two number \n",
    "a=int(input(\"Enter first number \"))\n",
    "b=int(input(\"Enter second number \"))\n",
    "print(\"Sum is \",a+b)\n"
   ]
  },
  {
   "cell_type": "code",
   "execution_count": 4,
   "id": "cdb8078a",
   "metadata": {},
   "outputs": [
    {
     "name": "stdout",
     "output_type": "stream",
     "text": [
      "Enter a number 56\n",
      "7.483314773547883\n"
     ]
    }
   ],
   "source": [
    "#sqroot of a number\n",
    "import math\n",
    "n=int(input(\"Enter a number \"))\n",
    "a=print(math.sqrt(n))\n"
   ]
  },
  {
   "cell_type": "code",
   "execution_count": 5,
   "id": "a51809b3",
   "metadata": {},
   "outputs": [
    {
     "name": "stdout",
     "output_type": "stream",
     "text": [
      "Enter the base 5\n",
      "Enter the height 6\n",
      "15.0\n"
     ]
    }
   ],
   "source": [
    "#area of a triangle\n",
    "b=int(input(\"Enter the base \"))\n",
    "h=int(input(\"Enter the height \"))\n",
    "area=print((1/2)*b*h)"
   ]
  },
  {
   "cell_type": "code",
   "execution_count": 6,
   "id": "86d800d4",
   "metadata": {},
   "outputs": [
    {
     "name": "stdout",
     "output_type": "stream",
     "text": [
      "Enter the first number 5\n",
      "Enter the secod number 9\n",
      "Number before swap  5 9\n",
      "Number after swap 9 5\n"
     ]
    }
   ],
   "source": [
    "#swaping two number\n",
    "a=int(input(\"Enter the first number \"))\n",
    "b=int(input(\"Enter the secod number \"))\n",
    "print(\"Number before swap \", a ,b)\n",
    "a,b=b,a \n",
    "print(\"Number after swap\" ,a ,b)\n"
   ]
  },
  {
   "cell_type": "code",
   "execution_count": 7,
   "id": "d0ae92b2",
   "metadata": {},
   "outputs": [
    {
     "name": "stdout",
     "output_type": "stream",
     "text": [
      "Enter the distance in km 56\n",
      "Distance in mile is   35.0\n"
     ]
    }
   ],
   "source": [
    "#convert km to mile \n",
    "n=int(input(\"Enter the distance in km \"))\n",
    "mile=0.625*n\n",
    "print(\"Distance in mile is  \",mile)"
   ]
  },
  {
   "cell_type": "code",
   "execution_count": 8,
   "id": "85d8d2c0",
   "metadata": {},
   "outputs": [
    {
     "name": "stdout",
     "output_type": "stream",
     "text": [
      "Enter the tempreture in celsius95\n",
      "tempreture in fahrenheit is  203.0\n"
     ]
    }
   ],
   "source": [
    "#convert tempreture celsius to fahrenheit\n",
    "c=int(input(\"Enter the tempreture in celsius\"))\n",
    "f=(c*(9/5))+32\n",
    "print(\"tempreture in fahrenheit is \",f)"
   ]
  },
  {
   "cell_type": "code",
   "execution_count": 9,
   "id": "ed171ad0",
   "metadata": {},
   "outputs": [
    {
     "name": "stdout",
     "output_type": "stream",
     "text": [
      "Enter a  number 56\n",
      "number is postive\n"
     ]
    }
   ],
   "source": [
    "#check a number negative postive or zero\n",
    "n=int(input(\"Enter a  number \"))\n",
    "if n>0:\n",
    "    print(\"number is postive\")\n",
    "elif(n==0):\n",
    "    print(\"Number is zero \")\n",
    "else:\n",
    "    print(\"Number is negative\")"
   ]
  },
  {
   "cell_type": "code",
   "execution_count": 10,
   "id": "6ff3e763",
   "metadata": {},
   "outputs": [
    {
     "name": "stdout",
     "output_type": "stream",
     "text": [
      "Enter a number 85\n",
      "Number is odd\n"
     ]
    }
   ],
   "source": [
    "#check a number even or odd\n",
    "n=int(input(\"Enter a number \"))\n",
    "if n%2==0:\n",
    "    print(\"Number is even\")\n",
    "else:\n",
    "    print(\"Number is odd\")"
   ]
  },
  {
   "cell_type": "code",
   "execution_count": 11,
   "id": "f32803f9",
   "metadata": {},
   "outputs": [
    {
     "name": "stdout",
     "output_type": "stream",
     "text": [
      "Enter a year 2002\n",
      "year is not a leap\n"
     ]
    }
   ],
   "source": [
    "#check a year leap year or not\n",
    "year=int(input(\"Enter a year \"))\n",
    "if year%400==0:\n",
    "    print(\"year is leap year \")\n",
    "elif year%100==0:\n",
    "    print(\"year is not leap yaer \")\n",
    "elif year%4==0:\n",
    "    print(\"year is leap year \")\n",
    "else:\n",
    "    print(\"year is not a leap\")"
   ]
  },
  {
   "cell_type": "code",
   "execution_count": 12,
   "id": "14dd8098",
   "metadata": {},
   "outputs": [
    {
     "name": "stdout",
     "output_type": "stream",
     "text": [
      "Enter first number 89\n",
      "Enter second number 45\n",
      "Enter third number 66\n",
      "a is greatest number \n"
     ]
    }
   ],
   "source": [
    "#check the biggest number among three\n",
    "a=int(input(\"Enter first number \"))\n",
    "b=int(input(\"Enter second number \"))\n",
    "c=int(input(\"Enter third number \"))\n",
    "if a>b and a>c:\n",
    "    print(\"a is greatest number \")\n",
    "elif b>c:\n",
    "    print(\"b is greatest number \")\n",
    "else:\n",
    "    print(\"c is greatest number \")"
   ]
  },
  {
   "cell_type": "code",
   "execution_count": 13,
   "id": "10e657a4",
   "metadata": {},
   "outputs": [
    {
     "name": "stdout",
     "output_type": "stream",
     "text": [
      "Enter a number 5\n",
      "5 is prime number\n"
     ]
    }
   ],
   "source": [
    "#check a number prime or not\n",
    "n=int(input(\"Enter a number \"))\n",
    "flag=0\n",
    "for i in range (2,n):\n",
    "    if n%i==0:\n",
    "        flag=1 \n",
    "if flag==0:\n",
    "    print(n,\"is prime number\")"
   ]
  },
  {
   "cell_type": "code",
   "execution_count": 14,
   "id": "5448bec6",
   "metadata": {},
   "outputs": [
    {
     "name": "stdout",
     "output_type": "stream",
     "text": [
      "Enter starting point89\n",
      "Enter ending point99\n",
      "89\n",
      "97\n"
     ]
    }
   ],
   "source": [
    "#check prime number in a given intervel\n",
    "\n",
    "st=int(input(\"Enter starting point\"))\n",
    "en=int(input(\"Enter ending point\"))\n",
    "for i in range(st,en+1,1):\n",
    "    flag=0\n",
    "    for j in range(2,i):\n",
    "        if i%j==0:\n",
    "            flag=1\n",
    "    if flag==0:\n",
    "        print(i)\n"
   ]
  },
  {
   "cell_type": "code",
   "execution_count": 15,
   "id": "3c7b5f4b",
   "metadata": {},
   "outputs": [
    {
     "name": "stdout",
     "output_type": "stream",
     "text": [
      "Enter a number 6\n",
      "factorial is  720\n"
     ]
    }
   ],
   "source": [
    "#factorial of a number\n",
    "n=int(input(\"Enter a number \"))\n",
    "fact=1\n",
    "for i in range(1,n+1):\n",
    "    fact=fact*i\n",
    "print(\"factorial is \",fact)"
   ]
  },
  {
   "cell_type": "code",
   "execution_count": 16,
   "id": "d41f6caf",
   "metadata": {},
   "outputs": [
    {
     "name": "stdout",
     "output_type": "stream",
     "text": [
      "Enter a number 88\n",
      "Factor of  88 is  [1, 2, 4, 8, 11, 22, 44, 88]\n"
     ]
    }
   ],
   "source": [
    "# program to find the factor\n",
    "n=int(input(\"Enter a number \"))\n",
    "li=[]\n",
    "for i in range(1,n+1):\n",
    "    if n%i==0:\n",
    "        li.append(i)\n",
    "print(\"Factor of \",n,\"is \", li)"
   ]
  },
  {
   "cell_type": "code",
   "execution_count": 18,
   "id": "6b5b444b",
   "metadata": {},
   "outputs": [
    {
     "name": "stdout",
     "output_type": "stream",
     "text": [
      "Enter the first number 80\n",
      "Enter second number 2\n",
      "80 is divisible by 2\n"
     ]
    }
   ],
   "source": [
    "# find the divisibilty of another number\n",
    "a=int(input(\"Enter the first number \"))\n",
    "b=int(input(\"Enter second number \"))\n",
    "if a%b==0:\n",
    "    print(a,\"is divisible by\",b)\n"
   ]
  },
  {
   "cell_type": "code",
   "execution_count": 19,
   "id": "e993f518",
   "metadata": {},
   "outputs": [
    {
     "name": "stdout",
     "output_type": "stream",
     "text": [
      "enter a number 56\n",
      "3136\n"
     ]
    }
   ],
   "source": [
    "# power of 2 using anonymous function\n",
    "n=int(input(\"enter a number \"))\n",
    "\n",
    "pow=lambda n:n**2\n",
    "print(pow(n))"
   ]
  },
  {
   "cell_type": "code",
   "execution_count": 21,
   "id": "641a30d1",
   "metadata": {},
   "outputs": [
    {
     "name": "stdout",
     "output_type": "stream",
     "text": [
      "Enter the number up to series be print 5\n",
      "0\n",
      "1\n",
      "1\n",
      "2\n",
      "3\n",
      "5\n"
     ]
    }
   ],
   "source": [
    "# 32.fibbonacci sequnce using recursion\n",
    "def fib(a):\n",
    "    if a==0 or a==1:\n",
    "        return a\n",
    "    else:\n",
    "         return fib(a-1)+fib(a-2)\n",
    "n=int(input(\"Enter the number up to series be print \"))\n",
    "for i in range(n+1):\n",
    "    print(fib(i))"
   ]
  },
  {
   "cell_type": "code",
   "execution_count": 22,
   "id": "c384da5e",
   "metadata": {},
   "outputs": [
    {
     "name": "stdout",
     "output_type": "stream",
     "text": [
      "Enter the year 2000\n",
      "Enter the month4\n",
      "     April 2000\n",
      "Mo Tu We Th Fr Sa Su\n",
      "                1  2\n",
      " 3  4  5  6  7  8  9\n",
      "10 11 12 13 14 15 16\n",
      "17 18 19 20 21 22 23\n",
      "24 25 26 27 28 29 30\n",
      "\n"
     ]
    }
   ],
   "source": [
    "import calendar\n",
    "year=int(input(\"Enter the year \"))\n",
    "month=int(input(\"Enter the month\"))\n",
    "print(calendar.month(year,month))"
   ]
  },
  {
   "cell_type": "code",
   "execution_count": 23,
   "id": "a0fd9afd",
   "metadata": {},
   "outputs": [
    {
     "name": "stdout",
     "output_type": "stream",
     "text": [
      "enter a number up to sum be print 9\n",
      "45\n"
     ]
    }
   ],
   "source": [
    "# sum of n natural number by using recursion\n",
    "def sum(x):\n",
    "    s=0\n",
    "    if x==0:\n",
    "        return s\n",
    "    else:\n",
    "        return s+x+sum(x-1)\n",
    "n=int(input(\"enter a number up to sum be print \"))\n",
    "print(sum(n))\n"
   ]
  },
  {
   "cell_type": "code",
   "execution_count": 24,
   "id": "5a26c39f",
   "metadata": {},
   "outputs": [
    {
     "name": "stdout",
     "output_type": "stream",
     "text": [
      "Enter a number 9\n",
      "362880\n"
     ]
    }
   ],
   "source": [
    "# factorial of a number using recursion\n",
    "def fact(x):\n",
    "    f=1\n",
    "    if x==0 or x==1:\n",
    "        return 1\n",
    "    else:\n",
    "        return x*fact(x-1)\n",
    " \n",
    "n=int(input(\"Enter a number \"))\n",
    "print(fact(n))"
   ]
  },
  {
   "cell_type": "code",
   "execution_count": 26,
   "id": "4e8a73ec",
   "metadata": {},
   "outputs": [
    {
     "name": "stdout",
     "output_type": "stream",
     "text": [
      "Enter a decimal  number 66\n",
      "The binary number is \n",
      "01000010"
     ]
    }
   ],
   "source": [
    "# convert a decimal number to binary by recursion\n",
    "def dec_bin(x):\n",
    "    if x>=1:\n",
    "        dec_bin(x//2)\n",
    "    print(x%2,end=\"\")\n",
    "      \n",
    "if __name__ == '__main__':\n",
    "    num=int(input(\"Enter a decimal  number \"))\n",
    "    print(\"The binary number is \" ) \n",
    "    dec_bin(num)\n"
   ]
  },
  {
   "cell_type": "code",
   "execution_count": 27,
   "id": "76bba309",
   "metadata": {},
   "outputs": [
    {
     "name": "stdout",
     "output_type": "stream",
     "text": [
      "([3, 48, 39], [14, 17, 21], [34, 23, 34])\n"
     ]
    }
   ],
   "source": [
    "\n",
    "# 36.add of two matrix\n",
    "mat1=[1,3,5],[2,4,7],[23,13,22]\n",
    "mat2=[2,45,34],[12,13,14],[11,10,12]\n",
    "mat3=[0,0,0],[0,0,0],[0,0,0]\n",
    "\n",
    "for i in range(len(mat1)):\n",
    "    for j in range(len(mat1[0])):\n",
    "        mat3[i][j]=mat1[i][j]+mat2[i][j]\n",
    "print(mat3)\n"
   ]
  },
  {
   "cell_type": "code",
   "execution_count": 30,
   "id": "0cc9f504",
   "metadata": {},
   "outputs": [
    {
     "name": "stdout",
     "output_type": "stream",
     "text": [
      "Enter a string raj\n",
      "jar\n"
     ]
    }
   ],
   "source": [
    "s1=input(\"Enter a string \")\n",
    "l1=len(s1)\n",
    "s2=[]\n",
    "for i in range(l1-1,-1,-1):\n",
    "    s2.append(s1[i])\n",
    "\n",
    "def list_string(s2):\n",
    "    s=''\n",
    "    return(s.join(s2))\n",
    "\n",
    "print(list_string(s2))   \n",
    "if s1==list_string(s2):\n",
    "    print(\"palindrom\")\n",
    "    \n",
    "    \n",
    "    "
   ]
  },
  {
   "cell_type": "code",
   "execution_count": 33,
   "id": "52732998",
   "metadata": {},
   "outputs": [
    {
     "name": "stdout",
     "output_type": "stream",
     "text": [
      "Enter number of row in first matrix 2\n",
      "Enter number of coloumn in first matrix 2\n",
      "Enter number of row in second matrix 2\n",
      "Enter number of coloumn in second matrix 2\n",
      "555\n",
      "66\n",
      "35\n",
      "24\n",
      "58\n",
      "963\n",
      "8\n",
      "7\n",
      "32718 534927 \n",
      "2222 33873 \n"
     ]
    }
   ],
   "source": [
    "#program to  multiply two matrix\n",
    "import numpy as np\n",
    "r1=int(input(\"Enter number of row in first matrix \"))\n",
    "c1=int(input(\"Enter number of coloumn in first matrix \"))\n",
    "r2=int(input(\"Enter number of row in second matrix \"))\n",
    "c2=int(input(\"Enter number of coloumn in second matrix \"))\n",
    "mat1=[]\n",
    "mat2=[]\n",
    "mul=[]\n",
    "for i in range(r1):\n",
    "    a=[]\n",
    "    for i in range(c1):\n",
    "        a.append(int(input()))\n",
    "    mat1.append(a)    \n",
    "for i in range(r2):\n",
    "    b=[]\n",
    "    for i in range(c2):\n",
    "        b.append(int(input()))\n",
    "    mat2.append(b)        \n",
    "if c1==r2:\n",
    "    mul=np.dot(mat1,mat2)\n",
    "for i in range(r1):\n",
    "    for j in range(c1):\n",
    "        print(mul[i][j],end=' ')\n",
    "    print()\n"
   ]
  },
  {
   "cell_type": "code",
   "execution_count": 34,
   "id": "41706f19",
   "metadata": {},
   "outputs": [
    {
     "name": "stdout",
     "output_type": "stream",
     "text": [
      "Enter a string how are u?\n",
      "['are', 'how', 'u?']\n"
     ]
    }
   ],
   "source": [
    "#sort words by alphabetically order\n",
    "s=input(\"Enter a string \")\n",
    "li=[]\n",
    "li=s.split()\n",
    "li.sort()\n",
    "print(li)\n"
   ]
  },
  {
   "cell_type": "code",
   "execution_count": 35,
   "id": "675ed37a",
   "metadata": {},
   "outputs": [
    {
     "name": "stdout",
     "output_type": "stream",
     "text": [
      "      \n",
      "     *\n",
      "    ***\n",
      "   *****\n",
      "  *******\n",
      " *********\n"
     ]
    }
   ],
   "source": [
    "#print pyramid pattern\n",
    "for i in range(6):\n",
    "    for j in range(6-i):\n",
    "        print(end=\" \")\n",
    "    for k in range(i):\n",
    "        print(\"*\",end=\"\")\n",
    "    for l in range(i-1):\n",
    "        print(\"*\",end='')\n",
    "    print()\n"
   ]
  },
  {
   "cell_type": "code",
   "execution_count": 36,
   "id": "d30a62ca",
   "metadata": {},
   "outputs": [
    {
     "name": "stdout",
     "output_type": "stream",
     "text": [
      "{1: 'Apple', 2: 'orange', 3: 'grapes', 4: 'Dog', 5: 'cat', 6: 'fish'}\n"
     ]
    }
   ],
   "source": [
    "#merge two dictionaries\n",
    "d1={1:\"Apple\",2:\"orange\",3:\"grapes\"}\n",
    "d2={4:\"Dog\",5:\"cat\",6:\"fish\"}\n",
    "d={}\n",
    "d={**d1,**d2}\n",
    "print(d)\n"
   ]
  },
  {
   "cell_type": "code",
   "execution_count": 37,
   "id": "f9a75dfe",
   "metadata": {},
   "outputs": [
    {
     "name": "stdout",
     "output_type": "stream",
     "text": [
      "Original List [[1, 2, 3, 4], [5, 6, 7], [8, 9, 10]]\n",
      "Transformed Flat List [1, 2, 3, 4, 5, 6, 7, 8, 9, 10]\n"
     ]
    }
   ],
   "source": [
    "# flat list from nested list\n",
    "def flat(_2d_l):\n",
    "    l1 = []\n",
    "    for element in _2d_l:\n",
    "        if type(element) is list:\n",
    "            for item in element:\n",
    "                l1.append(item)\n",
    "        else:\n",
    "            l1.append(element)\n",
    "    return l1\n",
    "\n",
    "nested_list = [[1, 2, 3, 4], [5, 6, 7], [8, 9, 10]]\n",
    "print('Original List', nested_list)\n",
    "print('Transformed Flat List', flat(nested_list))\n"
   ]
  },
  {
   "cell_type": "code",
   "execution_count": 38,
   "id": "7f017543",
   "metadata": {},
   "outputs": [
    {
     "name": "stdout",
     "output_type": "stream",
     "text": [
      "1\n",
      "7\n",
      "8\n",
      "34\n",
      "78\n",
      "25\n",
      "9\n",
      "98\n",
      "32\n",
      "17\n"
     ]
    }
   ],
   "source": [
    "#access index of a list using for loop \n",
    "l1=[1,7,8,34,78,25,9,98,32,17]\n",
    "for i in range(len(l1)):\n",
    "    print(l1[i])\n"
   ]
  },
  {
   "cell_type": "code",
   "execution_count": 39,
   "id": "fc6b5834",
   "metadata": {},
   "outputs": [
    {
     "name": "stdout",
     "output_type": "stream",
     "text": [
      "[23, 45, 67, 89, 24, 56, 78, 84, 12, 30, 27, 63]\n",
      "[56, 78, 84, 12, 30, 27, 63]\n",
      "[23, 45, 67, 89, 24, 56, 78, 84]\n"
     ]
    }
   ],
   "source": [
    "#slice a list\n",
    "\n",
    "lis=[23,45,67,89,24,56,78,84,12,30,27,63]\n",
    "print(lis[::])\n",
    "print(lis[5:])\n",
    "print(lis[:8])\n"
   ]
  },
  {
   "cell_type": "code",
   "execution_count": 40,
   "id": "ceeb4e54",
   "metadata": {},
   "outputs": [
    {
     "name": "stdout",
     "output_type": "stream",
     "text": [
      "{33, 70, 40, 10, 44, 50, 51, 20, 60, 30}\n",
      "{10, 50, 20, 30}\n",
      "{40, 60, 70}\n",
      "{33, 51, 44}\n",
      "{70, 33, 40, 44, 51, 60}\n",
      "False\n",
      "False\n",
      "{70, 40, 10, 50, 20, 60, 30}\n"
     ]
    }
   ],
   "source": [
    "#illustrate diffrent set operation\n",
    "\n",
    "a={10,20,30,40,50,60,70}\n",
    "b={33,44,51,10,20,50,30,33}\n",
    "print(a|b)        #union of two set\n",
    "print(a&b)        #intersection of two set\n",
    "print(a-b)         #difference of two set\n",
    "print(b-a)\n",
    "print(a^b)\n",
    "print(a>=b)\n",
    "print(b<=a)\n",
    "print(a )\n"
   ]
  },
  {
   "cell_type": "code",
   "execution_count": 41,
   "id": "8c21deaf",
   "metadata": {},
   "outputs": [
    {
     "name": "stdout",
     "output_type": "stream",
     "text": [
      "1 correspond to  apple\n",
      "2 correspond to  banana\n",
      "3 correspond to  orange\n",
      "4 correspond to  grapes\n",
      "5 correspond to  melon\n"
     ]
    }
   ],
   "source": [
    "#iterate over dictionaries using for loop \n",
    "d={1:'apple',2:'banana',3:'orange', 4:'grapes', 5:'melon'}\n",
    "for key in d:\n",
    "    print(key,'correspond to ',d[key])\n"
   ]
  },
  {
   "cell_type": "code",
   "execution_count": 42,
   "id": "cbd4347c",
   "metadata": {},
   "outputs": [
    {
     "name": "stdout",
     "output_type": "stream",
     "text": [
      "['apple', 'cat', 'dog', 'grapes', 'mango', 'melon', 'orange']\n"
     ]
    }
   ],
   "source": [
    "#sort a dictionary by value\n",
    "\n",
    "di={1:'melon',2:'orange',3:'apple',4:'grapes',5:'mango',6:'dog',7:'cat'}\n",
    "d1=sorted(di.values())\n",
    "print(d1)\n"
   ]
  },
  {
   "cell_type": "code",
   "execution_count": 43,
   "id": "5bb870dc",
   "metadata": {},
   "outputs": [
    {
     "name": "stdout",
     "output_type": "stream",
     "text": [
      "list is empty\n"
     ]
    }
   ],
   "source": [
    "#check a list empty or not\n",
    "lst=[]\n",
    "if not lst:\n",
    "    print(\"list is empty\")\n"
   ]
  },
  {
   "cell_type": "code",
   "execution_count": 44,
   "id": "5e173c90",
   "metadata": {},
   "outputs": [
    {
     "name": "stdout",
     "output_type": "stream",
     "text": [
      "[1, 2, 3, 4, 5, 6, 7, 8, 9, 10, 11]\n"
     ]
    }
   ],
   "source": [
    "#concatnate two list\n",
    "\n",
    "l1=[1,3,5,7,9,11]\n",
    "l2=[2,4,6,8,10]\n",
    "l3=[]\n",
    "l3=l1+l2\n",
    "print(sorted(l3))\n"
   ]
  },
  {
   "cell_type": "code",
   "execution_count": 45,
   "id": "870978dd",
   "metadata": {},
   "outputs": [
    {
     "name": "stdout",
     "output_type": "stream",
     "text": [
      "enter serch key 5\n",
      "Already prsent \n"
     ]
    }
   ],
   "source": [
    "# check if a key is already present or not in a dictionary\n",
    "d1={1:\"apple\",2:'orange',3:'grapes',4:'orange',5:'mango'}\n",
    "key=int(input(\"enter serch key \"))\n",
    "if key in d1:\n",
    "    print(\"Already prsent \")\n"
   ]
  },
  {
   "cell_type": "code",
   "execution_count": 46,
   "id": "a8052f7a",
   "metadata": {},
   "outputs": [
    {
     "name": "stdout",
     "output_type": "stream",
     "text": [
      "1.add\n",
      "2.subtract\n",
      "3.multyply\n",
      "4.divide\n",
      "Enter first number 56\n",
      "Enter second number 9\n",
      "Enter your choice(1/2/3/4)2\n",
      "56 - 9 is 47\n",
      "Are you want to do another operation (Yes or no)\n",
      "yes/noy\n",
      "Enter your choice(1/2/3/4)8\n",
      "Are you want to do another operation (Yes or no)\n",
      "yes/non\n",
      "Enter your choice(1/2/3/4)8\n",
      "Are you want to do another operation (Yes or no)\n",
      "yes/nono\n"
     ]
    }
   ],
   "source": [
    "#simple calculator program\n",
    "\n",
    "print(\"1.add\") \n",
    "print(\"2.subtract\")\n",
    "print(\"3.multyply\")\n",
    "print(\"4.divide\")\n",
    "a=int(input(\"Enter first number \")) \n",
    "b=int(input(\"Enter second number \")) \n",
    "while True: \n",
    "    choice=int(input(\"Enter your choice(1/2/3/4)\"))\n",
    "    if choice==1:\n",
    "        print(a,\"+\",b,\"is \",(a+b))\n",
    "    elif choice==2:\n",
    "        print(a,\"-\",b, \"is\",(a-b))\n",
    "    elif choice==3: \n",
    "        print(a,\"*\",b,\"is\",(a*b)) \n",
    "    elif choice==4:\n",
    "        print(a,\"//\",b,\"is\",(a//b)) \n",
    "    print(\"Are you want to do another operation (Yes or no)\") \n",
    "    op=input(\"yes/no\")\n",
    "    if op=='no':\n",
    "      break\n"
   ]
  },
  {
   "cell_type": "code",
   "execution_count": 47,
   "id": "756ac1fd",
   "metadata": {},
   "outputs": [
    {
     "name": "stdout",
     "output_type": "stream",
     "text": [
      "Enter the number up to table be print 6\n",
      "1 2 3 4 5 6 7 8 9 10 \n",
      "2 4 6 8 10 12 14 16 18 20 \n",
      "3 6 9 12 15 18 21 24 27 30 \n",
      "4 8 12 16 20 24 28 32 36 40 \n",
      "5 10 15 20 25 30 35 40 45 50 \n",
      "6 12 18 24 30 36 42 48 54 60 \n"
     ]
    }
   ],
   "source": [
    "#table\n",
    "n=int(input(\"Enter the number up to table be print \"))\n",
    "mul=1\n",
    "for i  in range(1,n+1):\n",
    "    for j in range(1,11):\n",
    "        mul=i*j \n",
    "        print(mul,end=\" \")\n",
    "    print()\n"
   ]
  },
  {
   "cell_type": "code",
   "execution_count": 49,
   "id": "9698e451",
   "metadata": {},
   "outputs": [
    {
     "name": "stdout",
     "output_type": "stream",
     "text": [
      "Enter a numer ut to series be printed 66\n",
      "0\n",
      "1\n",
      "1\n",
      "2\n",
      "3\n",
      "5\n",
      "8\n",
      "13\n",
      "21\n",
      "34\n",
      "55\n",
      "89\n",
      "144\n",
      "233\n",
      "377\n",
      "610\n",
      "987\n",
      "1597\n",
      "2584\n",
      "4181\n",
      "6765\n",
      "10946\n",
      "17711\n",
      "28657\n",
      "46368\n",
      "75025\n",
      "121393\n",
      "196418\n",
      "317811\n",
      "514229\n",
      "832040\n",
      "1346269\n",
      "2178309\n",
      "3524578\n",
      "5702887\n",
      "9227465\n",
      "14930352\n",
      "24157817\n",
      "39088169\n",
      "63245986\n",
      "102334155\n",
      "165580141\n",
      "267914296\n",
      "433494437\n",
      "701408733\n",
      "1134903170\n",
      "1836311903\n",
      "2971215073\n",
      "4807526976\n",
      "7778742049\n",
      "12586269025\n",
      "20365011074\n",
      "32951280099\n",
      "53316291173\n",
      "86267571272\n",
      "139583862445\n",
      "225851433717\n",
      "365435296162\n",
      "591286729879\n",
      "956722026041\n",
      "1548008755920\n",
      "2504730781961\n",
      "4052739537881\n",
      "6557470319842\n",
      "10610209857723\n",
      "17167680177565\n",
      "27777890035288\n"
     ]
    }
   ],
   "source": [
    "#fibonacci  sequence\n",
    "n=int(input(\"Enter a numer ut to series be printed \"))\n",
    "p=1\n",
    "pp=0 \n",
    "print(pp)\n",
    "print(p)\n",
    "for i in range(n-1):\n",
    "    nx=p+pp\n",
    "    print(nx)\n",
    "    pp=p\n",
    "    p=nx\n"
   ]
  },
  {
   "cell_type": "code",
   "execution_count": 50,
   "id": "352da8b2",
   "metadata": {},
   "outputs": [
    {
     "name": "stdout",
     "output_type": "stream",
     "text": [
      "15\n"
     ]
    }
   ],
   "source": [
    "#generate randon number \n",
    "import random\n",
    "n=random.randint(1,30)\n",
    "print(n)"
   ]
  },
  {
   "cell_type": "code",
   "execution_count": 54,
   "id": "d5c8bf7a",
   "metadata": {},
   "outputs": [
    {
     "name": "stdout",
     "output_type": "stream",
     "text": [
      "Enter a number 153\n",
      "Number is armstrong\n"
     ]
    }
   ],
   "source": [
    "#check armstrong number\n",
    "n=int(input(\"Enter a number \"))\n",
    "res=0\n",
    "sum=0\n",
    "temp=n\n",
    "while temp!=0:\n",
    "    res=temp%10\n",
    "    sum=sum+res**3\n",
    "    temp=temp//10\n",
    "if n==sum:\n",
    "    print(\"Number is armstrong\")\n"
   ]
  },
  {
   "cell_type": "code",
   "execution_count": 55,
   "id": "cbb44e1c",
   "metadata": {},
   "outputs": [
    {
     "name": "stdout",
     "output_type": "stream",
     "text": [
      "Enter the stating point 5\n",
      "Enter the ending point 200\n",
      "153\n"
     ]
    }
   ],
   "source": [
    "#chech armstrong number in a given interval\n",
    "st=int(input(\"Enter the stating point \"))\n",
    "en=int(input(\"Enter the ending point \"))\n",
    "for i in range(st,en,1):\n",
    "    res=0\n",
    "    sum=0 \n",
    "    temp=i\n",
    "    while temp!=0:\n",
    "        res=temp%10\n",
    "        sum=sum+res**3\n",
    "        temp=temp//10\n",
    "    if i==sum:\n",
    "      print(i)\n"
   ]
  },
  {
   "cell_type": "code",
   "execution_count": 56,
   "id": "8d6a3fb5",
   "metadata": {},
   "outputs": [
    {
     "name": "stdout",
     "output_type": "stream",
     "text": [
      "Enter the number up to sum 100\n",
      "sum is  5050\n"
     ]
    }
   ],
   "source": [
    "#sum of n natural number \n",
    "n=int(input(\"Enter the number up to sum \"))\n",
    "sum=0\n",
    "for i in range(1,n+1):\n",
    "    sum=sum+i \n",
    "print(\"sum is \",sum)\n"
   ]
  },
  {
   "cell_type": "code",
   "execution_count": 57,
   "id": "34fb1a74",
   "metadata": {},
   "outputs": [
    {
     "name": "stdout",
     "output_type": "stream",
     "text": [
      "Enter first number 30\n",
      "Enter second number 60\n",
      "[1, 2, 3, 5, 6, 10, 15, 30]\n",
      "[1, 2, 3, 4, 5, 6, 10, 12, 15, 20, 30, 60]\n",
      "HCF of a and b is 30\n"
     ]
    }
   ],
   "source": [
    "#HCF of two number \n",
    "a=int(input(\"Enter first number \"))\n",
    "b=int(input(\"Enter second number \"))\n",
    "l1=[]\n",
    "l2=[]\n",
    "l3=[]\n",
    "for i in range(1,a+1):\n",
    "    if a%i==0:\n",
    "        l1.append(i)\n",
    "for i in range(1,b+1):\n",
    "    if b%i==0:\n",
    "        l2.append(i)        \n",
    "print(l1) \n",
    "print(l2)\n",
    "for i in range(len(l1)):\n",
    "    var=l1[i]\n",
    "    for j in range(len(l2)):\n",
    "        if var==l2[j]:\n",
    "            l3.append(var)\n",
    "print(\"HCF of a and b is\", max(l3))\n"
   ]
  },
  {
   "cell_type": "code",
   "execution_count": 58,
   "id": "c0c72c85",
   "metadata": {},
   "outputs": [
    {
     "name": "stdout",
     "output_type": "stream",
     "text": [
      "Enter first number 50\n",
      "Enter second number 200\n",
      "[1, 2, 5, 10, 25, 50]\n",
      "[1, 2, 4, 5, 8, 10, 20, 25, 40, 50, 100, 200]\n",
      "200.0\n"
     ]
    }
   ],
   "source": [
    "#LCM of  two number\n",
    "a=int(input(\"Enter first number \"))\n",
    "b=int(input(\"Enter second number \"))\n",
    "l1=[]\n",
    "l2=[]\n",
    "l3=[]\n",
    "for i in range(1,a+1):\n",
    "    if a%i==0:\n",
    "        l1.append(i)\n",
    "for i in range(1,b+1):\n",
    "    if b%i==0:\n",
    "        l2.append(i)        \n",
    "print(l1) \n",
    "print(l2)\n",
    "for i in range(len(l1)):\n",
    "    var=l1[i]\n",
    "    for j in range(len(l2)):\n",
    "        if var==l2[j]:\n",
    "            l3.append(var)\n",
    "lcm=(a*b)/max(l3)\n",
    "print(lcm)\n"
   ]
  },
  {
   "cell_type": "code",
   "execution_count": 60,
   "id": "04a01ac0",
   "metadata": {},
   "outputs": [
    {
     "name": "stdout",
     "output_type": "stream",
     "text": [
      "Enter any charcter f\n",
      "102\n"
     ]
    }
   ],
   "source": [
    "#AsCII value of a charecter\n",
    "c=input(\"Enter any charcter \")\n",
    "print(ord(c))\n"
   ]
  },
  {
   "cell_type": "code",
   "execution_count": 61,
   "id": "76f912af",
   "metadata": {},
   "outputs": [
    {
     "name": "stdout",
     "output_type": "stream",
     "text": [
      "Enter a string pushpraj\n",
      "Number of vowel in  string is  2\n"
     ]
    }
   ],
   "source": [
    "s1=input(\"Enter a string \")\n",
    "v=0\n",
    "for var in s1:\n",
    "    if var=='a'or var=='e'or var=='i'or var=='o'or var=='u'or var=='A'or var=='E'or var=='I'or var=='O'or var=='U':\n",
    "        v=v+1\n",
    "print(\"Number of vowel in  string is \",v)\n"
   ]
  },
  {
   "cell_type": "code",
   "execution_count": 63,
   "id": "09b05810",
   "metadata": {},
   "outputs": [
    {
     "name": "stdout",
     "output_type": "stream",
     "text": [
      "\u001b[31mI am student of B.Tech \n"
     ]
    }
   ],
   "source": [
    "import colorama\n",
    "from colorama import Fore\n",
    "print(Fore.RED+\"I am student of B.Tech \")\n"
   ]
  },
  {
   "cell_type": "code",
   "execution_count": 64,
   "id": "aba4519d",
   "metadata": {},
   "outputs": [
    {
     "name": "stdout",
     "output_type": "stream",
     "text": [
      "[3, 4, 6]\n"
     ]
    }
   ],
   "source": [
    "dt = {5:4, 1:6, 6:3}\n",
    "\n",
    "sorted_dt_value = sorted(dt.values())\n",
    "print(sorted_dt_value)"
   ]
  },
  {
   "cell_type": "code",
   "execution_count": 69,
   "id": "9b2e8d78",
   "metadata": {},
   "outputs": [
    {
     "name": "stdout",
     "output_type": "stream",
     "text": [
      "sun \n",
      "star\n",
      "invalid literal for int() with base 10: 'star'\n"
     ]
    }
   ],
   "source": [
    "string = input()\n",
    "\n",
    "try:\n",
    "    num = int(input())\n",
    "    print(string+num)\n",
    "except (TypeError, ValueError) as e:\n",
    "    print(e)"
   ]
  },
  {
   "cell_type": "code",
   "execution_count": 70,
   "id": "26ad77cc",
   "metadata": {},
   "outputs": [
    {
     "name": "stdout",
     "output_type": "stream",
     "text": [
      "[1, 'a', 2, 3]\n"
     ]
    }
   ],
   "source": [
    "list_1 = [1, 'a']\n",
    "list_2 = range(2, 4)\n",
    "\n",
    "list_joined = [*list_1, *list_2]\n",
    "print(list_joined)"
   ]
  },
  {
   "cell_type": "code",
   "execution_count": 71,
   "id": "ed193929",
   "metadata": {},
   "outputs": [
    {
     "name": "stdout",
     "output_type": "stream",
     "text": [
      "<class 'datetime.datetime'>\n",
      "2011-03-11 11:31:00\n"
     ]
    }
   ],
   "source": [
    "from datetime import datetime\n",
    "\n",
    "my_date_string = \"Mar 11 2011 11:31AM\"\n",
    "\n",
    "datetime_object = datetime.strptime(my_date_string, '%b %d %Y %I:%M%p')\n",
    "\n",
    "print(type(datetime_object))\n",
    "print(datetime_object)"
   ]
  },
  {
   "cell_type": "code",
   "execution_count": 72,
   "id": "2dc9e7fd",
   "metadata": {},
   "outputs": [
    {
     "name": "stdout",
     "output_type": "stream",
     "text": [
      "e\n"
     ]
    }
   ],
   "source": [
    "my_list = ['a', 'b', 'c', 'd', 'e']\n",
    "\n",
    "# print the last element\n",
    "print(my_list[-1])\n"
   ]
  },
  {
   "cell_type": "code",
   "execution_count": 74,
   "id": "a48f732e",
   "metadata": {},
   "outputs": [
    {
     "name": "stdout",
     "output_type": "stream",
     "text": [
      "am \n",
      "am student.\n",
      "I am student\n"
     ]
    }
   ],
   "source": [
    "my_string = \"I am student.\"\n",
    "\n",
    "# prints \"am\"\n",
    "print(my_string[2:5])\n",
    "\n",
    "# prints \"am student.\"\n",
    "print(my_string[2:])\n",
    "\n",
    "# prints \"I am student\"\n",
    "print(my_string[:-1])"
   ]
  },
  {
   "cell_type": "code",
   "execution_count": 75,
   "id": "15c66380",
   "metadata": {},
   "outputs": [
    {
     "name": "stdout",
     "output_type": "stream",
     "text": [
      "Python\n",
      "is easy to learn.\n",
      "\n",
      "Python is easy to learn.\n"
     ]
    }
   ],
   "source": [
    "# print each statement on a new line\n",
    "print(\"Python\")\n",
    "print(\"is easy to learn.\")\n",
    "\n",
    "# new line\n",
    "print()\n",
    "\n",
    "# print both the statements on a single line\n",
    "print(\"Python\", end=\" \")\n",
    "print(\"is easy to learn.\")"
   ]
  },
  {
   "cell_type": "code",
   "execution_count": 76,
   "id": "a6114282",
   "metadata": {},
   "outputs": [
    {
     "name": "stdout",
     "output_type": "stream",
     "text": [
      "3\n"
     ]
    }
   ],
   "source": [
    "freq = ['a', 1, 'a', 4, 3, 2, 'a'].count('a')\n",
    "print(freq)"
   ]
  },
  {
   "cell_type": "code",
   "execution_count": 78,
   "id": "8ed289d3",
   "metadata": {},
   "outputs": [
    {
     "name": "stdout",
     "output_type": "stream",
     "text": [
      "first\n",
      "impression is the  \n",
      "last impression.\n"
     ]
    }
   ],
   "source": [
    "my_string = '''first\n",
    "impression is the  \n",
    "last impression.'''\n",
    "\n",
    "print(my_string)"
   ]
  },
  {
   "cell_type": "code",
   "execution_count": 80,
   "id": "8f0e937d",
   "metadata": {},
   "outputs": [
    {
     "name": "stdout",
     "output_type": "stream",
     "text": [
      "Vehicle\n"
     ]
    }
   ],
   "source": [
    "class Vehicle:\n",
    "    def name(self, name):\n",
    "        return name\n",
    "\n",
    "v = Vehicle()\n",
    "print(v.__class__.__name__)"
   ]
  },
  {
   "cell_type": "code",
   "execution_count": 81,
   "id": "6a8d5ea7",
   "metadata": {},
   "outputs": [
    {
     "name": "stdout",
     "output_type": "stream",
     "text": [
      "{1: 'python', 2: 'c', 3: 'c++'}\n"
     ]
    }
   ],
   "source": [
    "index = [1, 2, 3]\n",
    "languages = ['python', 'c', 'c++']\n",
    "\n",
    "dictionary = dict(zip(index, languages))\n",
    "print(dictionary)"
   ]
  },
  {
   "cell_type": "code",
   "execution_count": 82,
   "id": "ec15ae1b",
   "metadata": {},
   "outputs": [
    {
     "name": "stdout",
     "output_type": "stream",
     "text": [
      "\n",
      "Python\n"
     ]
    }
   ],
   "source": [
    "my_string = \" \\nPython \"\n",
    "\n",
    "print(my_string.strip(\" \"))"
   ]
  },
  {
   "cell_type": "code",
   "execution_count": 84,
   "id": "d2c0a8a5",
   "metadata": {},
   "outputs": [
    {
     "name": "stdout",
     "output_type": "stream",
     "text": [
      "file\n"
     ]
    }
   ],
   "source": [
    "import os\n",
    "\n",
    "# file name with extension\n",
    "file_name = os.path.basename('/root/file.ext')\n",
    "\n",
    "# file name without extension\n",
    "print(os.path.splitext(file_name)[0])"
   ]
  },
  {
   "cell_type": "code",
   "execution_count": null,
   "id": "fddc53c1",
   "metadata": {},
   "outputs": [],
   "source": []
  }
 ],
 "metadata": {
  "kernelspec": {
   "display_name": "Python 3",
   "language": "python",
   "name": "python3"
  },
  "language_info": {
   "codemirror_mode": {
    "name": "ipython",
    "version": 3
   },
   "file_extension": ".py",
   "mimetype": "text/x-python",
   "name": "python",
   "nbconvert_exporter": "python",
   "pygments_lexer": "ipython3",
   "version": "3.8.8"
  }
 },
 "nbformat": 4,
 "nbformat_minor": 5
}
